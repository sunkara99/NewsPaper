{
 "cells": [
  {
   "cell_type": "code",
   "execution_count": 81,
   "id": "94260da7",
   "metadata": {},
   "outputs": [],
   "source": [
    "import pandas as pd\n",
    "import numpy as np\n",
    "import seaborn as sns\n",
    "import matplotlib.pyplot as plt\n",
    "from datetime import datetime, date, time, timedelta as dt\n",
    "\n"
   ]
  },
  {
   "cell_type": "code",
   "execution_count": 59,
   "id": "a1aefe90",
   "metadata": {},
   "outputs": [],
   "source": [
    "sales = pd.read_excel(\"fact_print_sales.xlsx\")\n",
    "revenue = pd.read_csv(\"fact_ad_revenue.csv\")\n",
    "city = pd.read_excel(\"dim_city.xlsx\")\n",
    "category = pd.read_excel(\"dim_ad_category.xlsx\")\n",
    "Readiness = pd.read_csv(\"fact_city_readiness.csv\")\n",
    "digital = pd.read_csv(\"fact_digital_pilot.csv\")\n",
    "\n"
   ]
  },
  {
   "cell_type": "code",
   "execution_count": 60,
   "id": "376468c8",
   "metadata": {},
   "outputs": [
    {
     "name": "stdout",
     "output_type": "stream",
     "text": [
      "  edition_ID City_ID Language           State                Month  \\\n",
      "0     ED1005    C005    Hindi       Rajasthan  2023-05-01 00:00:00   \n",
      "1     ED1005    C005    Hindi       Rajasthan  2019-03-01 00:00:00   \n",
      "2     ED1001    C001    hindi   Uttar pradesh  2023-07-01 00:00:00   \n",
      "3     ED1003    C003    Hindi  Madhya_Pradesh  2023-07-01 00:00:00   \n",
      "4     ED1007    C007    Hindi       Jharkhand  2020-10-01 00:00:00   \n",
      "\n",
      "  Copies Sold  copies_returned  Net_Circulation  \n",
      "0      404389            13510           390879  \n",
      "1      492943            25024           467919  \n",
      "2      168893            12285           156608  \n",
      "3      216540            10117           206423  \n",
      "4      234563            13048           221515  \n"
     ]
    }
   ],
   "source": [
    "print(sales.head())"
   ]
  },
  {
   "cell_type": "code",
   "execution_count": 61,
   "id": "ec0d965b",
   "metadata": {},
   "outputs": [
    {
     "name": "stdout",
     "output_type": "stream",
     "text": [
      "       copies_returned  Net_Circulation\n",
      "count       720.000000       720.000000\n",
      "mean      16430.815278    287950.551389\n",
      "std        6524.459623     83191.491771\n",
      "min        4991.000000    139098.000000\n",
      "25%       11379.500000    219982.750000\n",
      "50%       15151.000000    279778.000000\n",
      "75%       20902.250000    351736.750000\n",
      "max       38021.000000    487255.000000\n"
     ]
    }
   ],
   "source": [
    "print(sales.describe())"
   ]
  },
  {
   "cell_type": "code",
   "execution_count": 62,
   "id": "d6283891",
   "metadata": {},
   "outputs": [
    {
     "name": "stdout",
     "output_type": "stream",
     "text": [
      "Index(['edition_ID', 'City_ID', 'Language', 'State', 'Month', 'Copies Sold',\n",
      "       'copies_returned', 'Net_Circulation'],\n",
      "      dtype='object')\n"
     ]
    }
   ],
   "source": [
    "print(sales.columns)"
   ]
  },
  {
   "cell_type": "code",
   "execution_count": 63,
   "id": "c313c7ef",
   "metadata": {},
   "outputs": [
    {
     "name": "stdout",
     "output_type": "stream",
     "text": [
      "edition_ID         object\n",
      "City_ID            object\n",
      "Language           object\n",
      "State              object\n",
      "Month              object\n",
      "Copies Sold        object\n",
      "copies_returned     int64\n",
      "Net_Circulation     int64\n",
      "dtype: object\n"
     ]
    }
   ],
   "source": [
    "#datatypes of the columns\n",
    "print(sales.dtypes)"
   ]
  },
  {
   "cell_type": "code",
   "execution_count": 69,
   "id": "1de7e63d",
   "metadata": {},
   "outputs": [],
   "source": [
    "# converting datatypes of certain columns to string\n",
    "string_cols = [\"edition_ID\", \"City_ID\", \"Language\", \"State\", \"Month\"]\n",
    "sales[string_cols ] = sales[string_cols].astype(\"string\")\n",
    "\n"
   ]
  },
  {
   "cell_type": "code",
   "execution_count": 85,
   "id": "0dc31d8b",
   "metadata": {},
   "outputs": [
    {
     "name": "stdout",
     "output_type": "stream",
     "text": [
      "edition_ID         string[python]\n",
      "City_ID            string[python]\n",
      "Language           string[python]\n",
      "State              string[python]\n",
      "Month                      object\n",
      "Copies Sold                 int64\n",
      "copies_returned             int64\n",
      "Net_Circulation             int64\n",
      "dtype: object\n"
     ]
    }
   ],
   "source": [
    "sales['Copies Sold'] = sales['Copies Sold'].astype(\"string\")\n",
    "sales['Copies Sold'] = sales['Copies Sold'].replace(r'[^0-9]', '', regex=True)\n",
    "sales['Copies Sold'] = sales['Copies Sold'].replace('', '0')\n",
    "sales['Copies Sold'] = sales['Copies Sold'].astype(\"int64\")\n",
    "print(sales.dtypes)"
   ]
  },
  {
   "cell_type": "code",
   "execution_count": null,
   "id": "35880d1f",
   "metadata": {},
   "outputs": [
    {
     "name": "stdout",
     "output_type": "stream",
     "text": [
      "edition_ID         string[python]\n",
      "City_ID            string[python]\n",
      "Language           string[python]\n",
      "State              string[python]\n",
      "Month              datetime64[ns]\n",
      "Copies Sold                 int64\n",
      "copies_returned             int64\n",
      "Net_Circulation             int64\n",
      "dtype: object\n"
     ]
    }
   ],
   "source": [
    "#converting the Month column to datetime format\n",
    "\n",
    "# Step 1: Convert to datetime\n",
    "sales['Month'] = pd.to_datetime(sales['Month'], errors='coerce')\n",
    "print(sales.dtypes)\n",
    "\n",
    "\n"
   ]
  },
  {
   "cell_type": "code",
   "execution_count": 96,
   "id": "eea8b116",
   "metadata": {},
   "outputs": [
    {
     "name": "stdout",
     "output_type": "stream",
     "text": [
      "Index(['edition_ID', 'City_ID', 'Language', 'State', 'Month', 'Copies Sold',\n",
      "       'copies_returned', 'Net_Circulation', 'year'],\n",
      "      dtype='object')\n",
      "edition_ID         string[python]\n",
      "City_ID            string[python]\n",
      "Language           string[python]\n",
      "State              string[python]\n",
      "Month              datetime64[ns]\n",
      "Copies Sold                 int64\n",
      "copies_returned             int64\n",
      "Net_Circulation             int64\n",
      "year                        int64\n",
      "dtype: object\n"
     ]
    }
   ],
   "source": [
    "sales['year'] = sales['Month'].dt.year\n",
    "#sales['year'] = sales['year'].astype(\"int64\")\n",
    "sales['year'] = sales['Month'].dt.year.fillna(0).astype(\"int64\")\n",
    "\n",
    "print(sales.columns)\n",
    "print(sales.dtypes)"
   ]
  },
  {
   "cell_type": "code",
   "execution_count": 100,
   "id": "1988c95a",
   "metadata": {},
   "outputs": [
    {
     "data": {
      "image/png": "[encoded data removed]",
      "text/plain": [
       "<Figure size 640x480 with 1 Axes>"
      ]
     },
     "metadata": {},
     "output_type": "display_data"
    }
   ],
   "source": [
    "#Print Circulation Trends\n",
    "x = sales['year']\n",
    "y = sales['Copies Sold']\n",
    "\n",
    "# Fit a straight line (best fit)\n",
    "z = np.polyfit(x, y, 1)\n",
    "p = np.poly1d(z)\n",
    "\n",
    "# Plot ONLY the trendline\n",
    "plt.plot(x, p(x), \"r--\", label=\"Trendline\")\n",
    "\n",
    "# Labels and title\n",
    "plt.xlabel(\"Year\")\n",
    "plt.ylabel(\"Copies Sold\")\n",
    "plt.title(\"Trendline: Year vs Copies Sold\")\n",
    "plt.legend()\n",
    "plt.grid(True)\n",
    "plt.show()"
   ]
  }
 ],
 "metadata": {
  "kernelspec": {
   "display_name": "Python 3",
   "language": "python",
   "name": "python3"
  },
  "language_info": {
   "codemirror_mode": {
    "name": "ipython",
    "version": 3
   },
   "file_extension": ".py",
   "mimetype": "text/x-python",
   "name": "python",
   "nbconvert_exporter": "python",
   "pygments_lexer": "ipython3",
   "version": "3.11.3"
  }
 },
 "nbformat": 4,
 "nbformat_minor": 5
}
